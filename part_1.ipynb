{
 "cells": [
  {
   "cell_type": "markdown",
   "metadata": {},
   "source": [
    "# Router Network\n",
    "\n",
    "\n",
    "### 1.1 Dataset\n",
    "\n",
    "The following notebook studies dataset that belongs to:\n",
    "\n",
    "**CAIDA Skitter Router-Level Topology and Degree Distribution**: [Dataset Link](https://www.caida.org/catalog/datasets/router-adjacencies/)\n",
    "\n",
    "CAIDA released the adjacency matrix of the Internet router-level graph computed from the ITDK0304 skitter data collected between Apr 21 and May 8, 2003. Routers act as points and their direct connections through cables form the links. Exploring this setup helps uncover how the internet's core infrastructure works.\n"
   ]
  },
  {
   "cell_type": "code",
   "execution_count": 1,
   "metadata": {},
   "outputs": [],
   "source": [
    "import numpy as np\n",
    "import pandas as pd\n",
    "import networkx as nx\n",
    "import matplotlib.pyplot as plt\n",
    "import csv"
   ]
  },
  {
   "cell_type": "code",
   "execution_count": 2,
   "metadata": {},
   "outputs": [
    {
     "name": "stdout",
     "output_type": "stream",
     "text": [
      "Number of nodes: 192244\n",
      "Number of edges: 609066\n"
     ]
    }
   ],
   "source": [
    "G = nx.Graph()\n",
    "\n",
    "with open(\"static/data.txt\", \"r\") as file:\n",
    "    f1 = csv.reader(file, delimiter='\\t')\n",
    "    for row in f1:\n",
    "        node1, node2 = map(int, row)\n",
    "        G.add_edge(node1, node2)\n",
    "\n",
    "total_nodes = G.number_of_nodes()\n",
    "total_edges = G.number_of_edges()\n",
    "\n",
    "print(f'Number of nodes: {total_nodes}')\n",
    "print(f'Number of edges: {total_edges}')"
   ]
  },
  {
   "cell_type": "markdown",
   "metadata": {},
   "source": [
    "The dataset contains **192244** nodes and **609066** edges."
   ]
  },
  {
   "cell_type": "code",
   "execution_count": 3,
   "metadata": {},
   "outputs": [],
   "source": [
    "# plt.figure(figsize=(10, 10))\n",
    "# nx.draw(G, with_labels=False, node_size=5)\n",
    "# plt.title(\"Router Network\")\n",
    "# plt.show()"
   ]
  },
  {
   "cell_type": "markdown",
   "metadata": {},
   "source": [
    "### 1.2 Network characterization\n",
    "\n",
    "#### 1.2.1 Giant Component\n",
    "\n",
    "In the context of a router network, the giant component represents a highly interconnected subset of routers within the overall network topology. This subset likely includes routers that are crucial for facilitating communication and data transfer across the network."
   ]
  },
  {
   "cell_type": "code",
   "execution_count": 4,
   "metadata": {},
   "outputs": [
    {
     "name": "stdout",
     "output_type": "stream",
     "text": [
      "Number of nodes in the giant component: 190914\n",
      "Number of edges in the giant component: 607610\n",
      "\n",
      "Percentage of nodes that are present in the giant component: 99.31%\n",
      "Number of edges in the giant component: 99.76%\n"
     ]
    }
   ],
   "source": [
    "giant_component = max(nx.connected_components(G), key=len)\n",
    "\n",
    "G_giant = G.subgraph(giant_component)\n",
    "\n",
    "\n",
    "giant_component_nodes = G_giant.number_of_nodes()\n",
    "giant_component_edges = G_giant.number_of_edges()\n",
    "\n",
    "print(f'Number of nodes in the giant component: {giant_component_nodes}')\n",
    "print(f'Number of edges in the giant component: {giant_component_edges}\\n')\n",
    "\n",
    "\n",
    "giant_nodes_percentage = 100 * giant_component_nodes / total_nodes\n",
    "giant_edges_percentage = 100 * giant_component_edges / total_edges\n",
    "\n",
    "giant_nodes_percentage_formatted = \"{:.2f}\".format(giant_nodes_percentage)\n",
    "giant_edges_percentage_formatted = \"{:.2f}\".format(giant_edges_percentage)\n",
    "\n",
    "print(f'Percentage of nodes that are present in the giant component: {giant_nodes_percentage_formatted}%')\n",
    "print(f'Number of edges in the giant component: {giant_edges_percentage_formatted}%')"
   ]
  },
  {
   "cell_type": "markdown",
   "metadata": {},
   "source": [
    "As we can see in the cell above the giant component contains significant portion of the whole dataset. **190914 nodes**, which is more than **99.3%** of the whole dataset and **607610 edges**, which is almost 99.8% of the whole dataset.\n",
    "\n",
    "This big interconnectedness implies robustness and resilience against node failures or disruptions. The giant component ensures alternative paths for data transmission, therefore it is extremely efficient in routing the data packets."
   ]
  },
  {
   "cell_type": "code",
   "execution_count": 23,
   "metadata": {},
   "outputs": [
    {
     "name": "stdout",
     "output_type": "stream",
     "text": [
      "Graph is not connected\n",
      "Average Degree: 6.34\n",
      "Clustering Coefficient: 0.16\n",
      "\n",
      "Complexity of diameter algorithm reaches 152449410936 or 443194201026 operations\n",
      "Diameter approximation: 26 \n",
      "\n",
      "Complexity of Average shortest Path reaches 6958463139271944 operations\n"
     ]
    }
   ],
   "source": [
    "# Average node degree \n",
    "from cmath import log\n",
    "\n",
    "\n",
    "average_degree = 2 * total_edges / total_nodes\n",
    "\n",
    "# Clustering Coefficient\n",
    "clustering_coefficient = nx.average_clustering(G)\n",
    "\n",
    "# Average path length\n",
    "try:\n",
    "    # average_path_length = nx.average_shortest_path_length(G)\n",
    "    diameter = nx.approximation.diameter(G)\n",
    "except nx.NetworkXError:\n",
    "    print(\"Graph is not connected\")\n",
    "    # average_path_length = nx.average_shortest_path_length(G_giant)\n",
    "    diameter_approximation = nx.approximation.diameter(G_giant)\n",
    "\n",
    "\n",
    "\n",
    "print(f'Average Degree: {average_degree:.2f}')\n",
    "print(f'Clustering Coefficient: {clustering_coefficient:.2f}\\n')\n",
    "\n",
    "complexity_diameter = [giant_component_nodes * (giant_component_nodes + giant_component_edges), int((log(giant_component_nodes) * (giant_component_nodes ** 2)).real)]\n",
    "\n",
    "print(f'Complexity of diameter algorithm reaches {complexity_diameter[0]} or {complexity_diameter[1]} operations')\n",
    "\n",
    "print(f'Diameter approximation: {diameter_approximation} \\n')\n",
    "\n",
    "\n",
    "\n",
    "complexity_average_shortest_path = giant_component_nodes ** 3\n",
    "\n",
    "print(f'Complexity of Average shortest Path reaches {complexity_average_shortest_path} operations')"
   ]
  },
  {
   "cell_type": "markdown",
   "metadata": {},
   "source": [
    "**Average node degree of 6.34** suggests a moderate level of connectivity within the network, enough to allow for routers to find alternative paths for data transmission, but not high enough to ensure smaller complexity of the network.\n",
    "\n",
    "**Clustering Coefficient of 0.16** exhibits a relatively low level of clustering. This indicates that neighboring nodes in the network are not highly likely to be connected to each other. The main conclusion is that \n",
    "\n",
    "\n",
    "\n",
    "\n",
    "However calculating the average path length and diamater exceeds computational capacity of my computer or Google Colab. \n",
    "\n",
    "For diameter algorithm takes O(V⋅(V+E)) or O(V*V*log(V)) time, which corresponds to 1.52e+11 or 4.43e+11 operations.\n",
    "\n",
    "The **approximation of diameter** of the network is **26** edges. This means that the router network is relatively well-connected, as it doesn't take an excessively large number of steps to traverse between any regions of the world. Exchanged information will be transmitted without big latency.\n",
    "\n",
    "\n",
    "However, the computional complexity of it is O(V^3) and with 190914 nodes in the giant component this number is almost 7 quadrillion (6,96e+15).\n",
    "\n",
    "However, I found a study with similar router dataset, that is ISI-99 with 228263 nodes. \n",
    "\n",
    "```\n",
    "https://www.researchgate.net/publication/3960121_Internet_Topology_Modeler_Based_on_Map_Sampling\n",
    "```\n",
    "\n",
    "Calculated **average path length is 9.51** and the path length distribution is displayed on the image below.\n",
    "\n",
    "![alt text](static/average_path_length.png \"Title\")\n"
   ]
  },
  {
   "cell_type": "code",
   "execution_count": 28,
   "metadata": {},
   "outputs": [],
   "source": [
    "diamater = nx.diameter(G_giant)\n",
    "\n",
    "print(f'Diameter: {diameter}')"
   ]
  },
  {
   "cell_type": "code",
   "execution_count": null,
   "metadata": {},
   "outputs": [],
   "source": []
  }
 ],
 "metadata": {
  "kernelspec": {
   "display_name": "pandas",
   "language": "python",
   "name": "python3"
  },
  "language_info": {
   "codemirror_mode": {
    "name": "ipython",
    "version": 3
   },
   "file_extension": ".py",
   "mimetype": "text/x-python",
   "name": "python",
   "nbconvert_exporter": "python",
   "pygments_lexer": "ipython3",
   "version": "3.10.13"
  }
 },
 "nbformat": 4,
 "nbformat_minor": 2
}
